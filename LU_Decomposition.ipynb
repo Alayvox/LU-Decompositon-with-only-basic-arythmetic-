{
 "cells": [
  {
   "cell_type": "code",
   "execution_count": 3,
   "id": "a8be191c-8aac-4fe4-a66b-0e6020856681",
   "metadata": {},
   "outputs": [],
   "source": [
    "import numpy as np "
   ]
  },
  {
   "cell_type": "code",
   "execution_count": 4,
   "id": "fca6209c-ed3a-41f2-8502-21af14bff9b9",
   "metadata": {},
   "outputs": [
    {
     "name": "stdout",
     "output_type": "stream",
     "text": [
      "L=\n",
      " [[ 1  0  0  0]\n",
      " [ 5  1  0  0]\n",
      " [ 3 -4  1  0]\n",
      " [-2  3  2  1]]\n",
      "U=\n",
      " [[ 2  4  5 -3]\n",
      " [ 0 -1  2  1]\n",
      " [ 0  0  4  2]\n",
      " [ 0  0  0  6]]\n"
     ]
    }
   ],
   "source": [
    "\n",
    "#LU decomposition \n",
    "\n",
    "A = np.matrix([[2,4,5,-3],[10,19,27,-14],[6,16,11,-11],[-4,-11,4,19]])\n",
    "def lu(A):\n",
    "  \n",
    "    n= A.shape[0]\n",
    "    U = A\n",
    "    L = np.array([[1 if i == j else 0 for j in range(n)] for i in range(n)])\n",
    "    for j in range(0,n-1):\n",
    "        for i in range(j+1,n):\n",
    "            m = A[i,j]/A[j,j]\n",
    "            U[i,j+1:n]= U[i, j+1:n] - m * U[j,j+1:n]\n",
    "            L[i,j] = m\n",
    "            U[i,j] = 0\n",
    "    return L ,U \n",
    "\n",
    "\n",
    "\n",
    "\n",
    "L ,U = lu(A)\n",
    "print('L=\\n',L)\n",
    "print('U=\\n',U)"
   ]
  },
  {
   "cell_type": "code",
   "execution_count": 7,
   "id": "d90c5766-8fd0-44a2-92d3-53b0ae7e8ae2",
   "metadata": {},
   "outputs": [
    {
     "data": {
      "text/plain": [
       "array([1., 2., 3.])"
      ]
     },
     "execution_count": 7,
     "metadata": {},
     "output_type": "execute_result"
    }
   ],
   "source": [
    "L =np.array([[1,0,0],[-2,1,0],[4,5,1]])\n",
    "U =np.array([[2,-1,6],[0,3,9],[0,0,-2]])\n",
    "b= np.array([18,-3,231])\n",
    "    \n",
    "def vorrueck(L,U,b):\n",
    "\n",
    "    n = L.shape[0]\n",
    "    y = np.zeros(n)\n",
    "    y[0] = b[0]\n",
    "    #Forward Decomposition\n",
    "    for i in range(1,n):\n",
    "        y[i]= b[i]-np.dot(L[i,:i],y[:i])\n",
    "\n",
    "    #Backward Decompoistion\n",
    "    x = np.zeros(n)\n",
    "    for i in range(n-1,-1,-1):\n",
    "        x[i]=(y[i]-np.dot(U[i,i+1:],x[i+1:]))/U[i,i]\n",
    "    \n",
    "    return x \n",
    "    \n",
    "vorrueck(L,U,b)"
   ]
  },
  {
   "cell_type": "code",
   "execution_count": null,
   "id": "eb279137-89ee-45fe-a1e1-45265ab4cc4d",
   "metadata": {},
   "outputs": [],
   "source": []
  }
 ],
 "metadata": {
  "kernelspec": {
   "display_name": "Python 3 (ipykernel)",
   "language": "python",
   "name": "python3"
  },
  "language_info": {
   "codemirror_mode": {
    "name": "ipython",
    "version": 3
   },
   "file_extension": ".py",
   "mimetype": "text/x-python",
   "name": "python",
   "nbconvert_exporter": "python",
   "pygments_lexer": "ipython3",
   "version": "3.10.6"
  }
 },
 "nbformat": 4,
 "nbformat_minor": 5
}
